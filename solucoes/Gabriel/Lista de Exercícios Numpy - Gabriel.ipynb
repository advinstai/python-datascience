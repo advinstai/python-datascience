{
 "cells": [
  {
   "cell_type": "markdown",
   "metadata": {},
   "source": [
    "# Crie um vetor nulo de tamanho 10:"
   ]
  },
  {
   "cell_type": "code",
   "execution_count": 2,
   "metadata": {},
   "outputs": [
    {
     "name": "stdout",
     "output_type": "stream",
     "text": [
      "[0 0 0 0 0 0 0 0 0 0]\n"
     ]
    }
   ],
   "source": [
    "import numpy as np\n",
    "a = np.zeros((10),dtype = np.int64)\n",
    "np.set_printoptions(precision = 4, suppress =True)\n",
    "print(a)"
   ]
  },
  {
   "cell_type": "markdown",
   "metadata": {},
   "source": [
    "# Como encontrar o tamanho da memória de qualquer matriz:\n"
   ]
  },
  {
   "cell_type": "code",
   "execution_count": 209,
   "metadata": {},
   "outputs": [
    {
     "data": {
      "text/plain": [
       "800"
      ]
     },
     "execution_count": 209,
     "metadata": {},
     "output_type": "execute_result"
    }
   ],
   "source": [
    "matrix = np.random.randint(1000, size = (10,10))\n",
    "matrix.nbytes"
   ]
  },
  {
   "cell_type": "markdown",
   "metadata": {},
   "source": [
    "# Crie um vetor nulo de tamanho 10, mas o quinto valor, que é 1:"
   ]
  },
  {
   "cell_type": "code",
   "execution_count": 213,
   "metadata": {},
   "outputs": [
    {
     "name": "stdout",
     "output_type": "stream",
     "text": [
      "[0. 0. 0. 0. 1. 0. 0. 0. 0. 0.]\n"
     ]
    }
   ],
   "source": [
    "vetor = np.zeros(10)\n",
    "vetor[4] = 1\n",
    "print(vetor)"
   ]
  },
  {
   "cell_type": "markdown",
   "metadata": {},
   "source": [
    "\n",
    "# Crie um vetor com valores que variam de 10 a 49:"
   ]
  },
  {
   "cell_type": "code",
   "execution_count": 216,
   "metadata": {},
   "outputs": [
    {
     "name": "stdout",
     "output_type": "stream",
     "text": [
      "[10 12 14 16 18 20 22 24 26 28 30 32 34 36 38 40 42 44 46 48]\n"
     ]
    }
   ],
   "source": [
    "vetor1 = np.arange(10,49,2)\n",
    "print(vetor1)"
   ]
  },
  {
   "cell_type": "markdown",
   "metadata": {},
   "source": [
    "# Inverter um vetor (o primeiro elemento se torna o último):"
   ]
  },
  {
   "cell_type": "code",
   "execution_count": 26,
   "metadata": {},
   "outputs": [
    {
     "name": "stdout",
     "output_type": "stream",
     "text": [
      "[10  9  8  7  6  5  4  3  2  1]\n"
     ]
    }
   ],
   "source": [
    "a = np.array([1,2,3,4,5,6,7,8,9,10])\n",
    "b = np.flip(a)\n",
    "print(b)"
   ]
  },
  {
   "cell_type": "markdown",
   "metadata": {},
   "source": [
    "# Crie uma matriz 3x3 com valores que variam de 0 a 8:"
   ]
  },
  {
   "cell_type": "code",
   "execution_count": 23,
   "metadata": {},
   "outputs": [
    {
     "name": "stdout",
     "output_type": "stream",
     "text": [
      "[[0 3 6]\n",
      " [0 3 6]\n",
      " [0 3 6]]\n"
     ]
    }
   ],
   "source": [
    "b = np.array([(np.arange(0,8,3)),(np.arange(0,8,3)),(np.arange(0,8,3))])\n",
    "print(b)"
   ]
  },
  {
   "cell_type": "markdown",
   "metadata": {},
   "source": [
    "# Crie uma matriz de identidade 3x3:"
   ]
  },
  {
   "cell_type": "code",
   "execution_count": 28,
   "metadata": {},
   "outputs": [
    {
     "name": "stdout",
     "output_type": "stream",
     "text": [
      "[[1. 0. 0.]\n",
      " [0. 1. 0.]\n",
      " [0. 0. 1.]]\n"
     ]
    }
   ],
   "source": [
    "ident = np.identity(3)\n",
    "print(ident)"
   ]
  },
  {
   "cell_type": "markdown",
   "metadata": {},
   "source": [
    "# Crie uma matriz 3x3x3 com valores aleatórios:"
   ]
  },
  {
   "cell_type": "code",
   "execution_count": 404,
   "metadata": {},
   "outputs": [
    {
     "name": "stdout",
     "output_type": "stream",
     "text": [
      "[[[69 62 55]\n",
      "  [60 60  4]\n",
      "  [33 52 51]]\n",
      "\n",
      " [[13 50 53]\n",
      "  [14 46 31]\n",
      "  [64  2 18]]\n",
      "\n",
      " [[63 49 75]\n",
      "  [65 55  3]\n",
      "  [23  4 26]]]\n"
     ]
    }
   ],
   "source": [
    "rand = np.random.randint(100,size = (3,3,3))\n",
    "print(rand)"
   ]
  },
  {
   "cell_type": "markdown",
   "metadata": {},
   "source": [
    "# Crie uma matriz 10x10 com valores aleatórios e encontre os valores mínimo e máximo"
   ]
  },
  {
   "cell_type": "code",
   "execution_count": 80,
   "metadata": {},
   "outputs": [
    {
     "name": "stdout",
     "output_type": "stream",
     "text": [
      "[[827 749 991 313 431 359  39 845 118 654]\n",
      " [999 518 248  31 811 366 375  15 689 752]\n",
      " [739 116 225 571 794 639 764 935 906 827]\n",
      " [153 621 620 377 121 290 603 151 939 857]\n",
      " [856 520 732 412 439 602 750 852 168 729]\n",
      " [637 188 381 179 655 993 790 247 362 119]\n",
      " [110 235 277 575  27 687  43 736 368 993]\n",
      " [ 65 531 557 292 244 976   1 986 561 564]\n",
      " [229 404  64 331 208 122 365 179 432 348]\n",
      " [650 873 635 722 227 383 620 198 728 212]] \n",
      "\n",
      "Maior valor: 999\n",
      "Menor valor: 1\n"
     ]
    }
   ],
   "source": [
    "matrix = np.random.randint(1000, size = (10,10)) # ou np.random.random((10,10))\n",
    "print(matrix,\"\\n\")\n",
    "print(\"Maior valor:\",np.max(matrix))\n",
    "print(\"Menor valor:\",np.min(matrix))"
   ]
  },
  {
   "cell_type": "markdown",
   "metadata": {},
   "source": [
    "# Crie um vetor aleatório de tamanho 30 e encontre o valor médio"
   ]
  },
  {
   "cell_type": "code",
   "execution_count": 78,
   "metadata": {},
   "outputs": [
    {
     "name": "stdout",
     "output_type": "stream",
     "text": [
      "[[31  0 72 70 94 62 94 73 67 79]\n",
      " [81 44 80 96 18 73 70 42 49 17]\n",
      " [70 70 12 58 87 72 25 49 83 67]] \n",
      "\n",
      "Média: 60.166666666666664\n"
     ]
    }
   ],
   "source": [
    "matriz = np.random.randint(100,size = (3,10))\n",
    "print(matriz,\"\\n\")\n",
    "print(\"Média:\",np.mean(matriz))"
   ]
  },
  {
   "cell_type": "markdown",
   "metadata": {},
   "source": [
    "# Crie uma matriz 2D com 1 na borda e 0 dentro"
   ]
  },
  {
   "cell_type": "code",
   "execution_count": 8,
   "metadata": {},
   "outputs": [
    {
     "name": "stdout",
     "output_type": "stream",
     "text": [
      "[[1. 1. 1. 1. 1. 1. 1. 1. 1. 1.]\n",
      " [1. 0. 0. 0. 0. 0. 0. 0. 0. 1.]\n",
      " [1. 0. 0. 0. 0. 0. 0. 0. 0. 1.]\n",
      " [1. 0. 0. 0. 0. 0. 0. 0. 0. 1.]\n",
      " [1. 0. 0. 0. 0. 0. 0. 0. 0. 1.]\n",
      " [1. 0. 0. 0. 0. 0. 0. 0. 0. 1.]\n",
      " [1. 0. 0. 0. 0. 0. 0. 0. 0. 1.]\n",
      " [1. 1. 1. 1. 1. 1. 1. 1. 1. 1.]] \n",
      "\n",
      "[[1. 1. 1. 1. 1. 1. 1. 1. 1. 1.]\n",
      " [1. 0. 0. 0. 0. 0. 0. 0. 0. 1.]\n",
      " [1. 0. 0. 0. 0. 0. 0. 0. 0. 1.]\n",
      " [1. 0. 0. 0. 0. 0. 0. 0. 0. 1.]\n",
      " [1. 0. 0. 0. 0. 0. 0. 0. 0. 1.]\n",
      " [1. 0. 0. 0. 0. 0. 0. 0. 0. 1.]\n",
      " [1. 0. 0. 0. 0. 0. 0. 0. 0. 1.]\n",
      " [1. 0. 0. 0. 0. 0. 0. 0. 0. 1.]\n",
      " [1. 0. 0. 0. 0. 0. 0. 0. 0. 1.]\n",
      " [1. 1. 1. 1. 1. 1. 1. 1. 1. 1.]] \n",
      "\n",
      "[[1. 1. 1. 1. 1. 1.]\n",
      " [1. 0. 0. 0. 0. 1.]\n",
      " [1. 0. 0. 0. 0. 1.]\n",
      " [1. 0. 0. 0. 0. 1.]\n",
      " [1. 0. 0. 0. 0. 1.]\n",
      " [1. 1. 1. 1. 1. 1.]]\n"
     ]
    }
   ],
   "source": [
    "matriz = np.zeros((8,8))\n",
    "one = np.ones((8,1))\n",
    "\n",
    "matriz[0] = 1\n",
    "matriz [7] = 1\n",
    "\n",
    "matriz = np.concatenate((one,matriz), axis = 1)\n",
    "matriz = np.concatenate((matriz,one), axis = 1)\n",
    "print(matriz,\"\\n\")\n",
    "\n",
    "\n",
    "################################################\n",
    "matrix = np.zeros((10,10))\n",
    "matrix[0] = 1\n",
    "matrix[-1] = 1\n",
    "np.transpose(matrix)[0] =  1\n",
    "np.transpose(matrix)[-1] = 1\n",
    "print(matrix,\"\\n\")\n",
    "\n",
    "################################################\n",
    "\n",
    "m = np.ones((6,6))\n",
    "m[1:-1,1:-1] = 0\n",
    "print(m)"
   ]
  },
  {
   "cell_type": "markdown",
   "metadata": {},
   "source": [
    "# Crie uma matriz 5x5 com valores 1,2,3,4 logo abaixo da diagonal"
   ]
  },
  {
   "cell_type": "code",
   "execution_count": 281,
   "metadata": {},
   "outputs": [
    {
     "name": "stdout",
     "output_type": "stream",
     "text": [
      "[[0 0 0 0 0]\n",
      " [1 0 0 0 0]\n",
      " [1 2 0 0 0]\n",
      " [1 2 3 0 0]\n",
      " [1 2 3 4 0]]\n"
     ]
    }
   ],
   "source": [
    "24  15 152]\n",
    "  [ 16 158 170]\n",
    "  [143 117  32]\n",
    "  [199 188   0]\n",
    "  [130  90 179]np.tril([[1,2,3],[4,5,6],[7,8,9],[10,11,12]], -1)\n",
    "\n",
    "matriz = np.zeros((5,5))\n",
    "a = np.tril([[1,2,3,4,5],[1,2,3,4,5],[1,2,3,4,5],[1,2,3,4,5],[1,2,3,4,5]], -1)\n",
    "print(a)"
   ]
  },
  {
   "cell_type": "markdown",
   "metadata": {},
   "source": [
    "# Crie uma matriz estruturada representando uma posição (x, y) e uma cor (r, g, b)"
   ]
  },
  {
   "cell_type": "code",
   "execution_count": 9,
   "metadata": {},
   "outputs": [
    {
     "name": "stdout",
     "output_type": "stream",
     "text": [
      "[[[185 143  78]\n",
      "  [ 28 228 100]\n",
      "  [222  17 248]\n",
      "  [108 156 155]\n",
      "  [189 238 106]]\n",
      "\n",
      " [[151 178 108]\n",
      "  [149 115  56]\n",
      "  [239   8 161]\n",
      "  [ 96  28  29]\n",
      "  [ 25 157  99]]\n",
      "\n",
      " [[ 42 170 128]\n",
      "  [ 39  51  24]\n",
      "  [ 84 112   7]\n",
      "  [150 238  16]\n",
      "  [224 245  62]]\n",
      "\n",
      " [[228  83  37]\n",
      "  [ 21  32 214]\n",
      "  [ 37  79 125]\n",
      "  [241 128  45]\n",
      "  [ 48  90   5]]\n",
      "\n",
      " [[ 66  89 159]\n",
      "  [ 22 230 168]\n",
      "  [206  97 174]\n",
      "  [ 13 181 123]\n",
      "  [ 39 172 202]]]\n"
     ]
    },
    {
     "data": {
      "text/plain": [
       "<matplotlib.image.AxesImage at 0x7f3cddfd0438>"
      ]
     },
     "execution_count": 9,
     "metadata": {},
     "output_type": "execute_result"
    },
    {
     "data": {
      "image/png": "[encoded data removed]",
      "text/plain": [
       "<Figure size 432x288 with 1 Axes>"
      ]
     },
     "metadata": {
      "needs_background": "light"
     },
     "output_type": "display_data"
    }
   ],
   "source": [
    "from skimage import io\n",
    "import matplotlib.pyplot as plt\n",
    "\n",
    "RGB = np.random.randint(255, size = (5,5,3))\n",
    "print(RGB)\n",
    "plt.imshow(RGB)\n",
    "\n",
    "\n",
    "#a = np.array([(52,55,61,66,70,61,64,73),(63,59,55,90,109,85,69,72),(62,59,68,113,144,104,66,73),(63,58,71,122,154,106,70,69),(67,61,68,104,126,88,68,70),(79,65,60,70,77,68,58,75),(85,71,64,59,55,61,65,83),(87,79,69,68,65,76,78,94)])\n",
    "#plt.imshow(a)\n",
    "\n",
    "\n",
    "# = np.array([np.zeros(100),np.zeros(100),np.ones(100)])\n",
    "#plt.imshow(R)"
   ]
  },
  {
   "cell_type": "code",
   "execution_count": 11,
   "metadata": {},
   "outputs": [
    {
     "name": "stdout",
     "output_type": "stream",
     "text": [
      "[[[255 255 204]\n",
      "  [ 46  89 229]\n",
      "  [  0 100 100]]\n",
      "\n",
      " [[  0 255   0]\n",
      "  [255   0   0]\n",
      "  [  0 255   0]]\n",
      "\n",
      " [[  0   0 255]\n",
      "  [  0 255   0]\n",
      "  [255   0   0]]]\n"
     ]
    },
    {
     "data": {
      "text/plain": [
       "<matplotlib.image.AxesImage at 0x7f3cddf03940>"
      ]
     },
     "execution_count": 11,
     "metadata": {},
     "output_type": "execute_result"
    },
    {
     "data": {
      "image/png": "[encoded data removed]",
      "text/plain": [
       "<Figure size 432x288 with 1 Axes>"
      ]
     },
     "metadata": {
      "needs_background": "light"
     },
     "output_type": "display_data"
    }
   ],
   "source": [
    "#a = np.array([(0,0,0,0,255,0,0,0),(0,0,0,0,255,0,0,0),(255,255,255,255,255,255,255,255),(63,58,71,122,255,106,70,69),(67,61,68,104,255,88,68,70),(79,65,60,70,255,68,58,75),(85,71,64,59,255,61,65,83),(87,79,69,68,255,76,78,94)])\n",
    "#print(a)\n",
    "#plt.imshow(a)\n",
    "\n",
    "c = np.array([[(255,255,204), (46,89,229),(0,100,100)], [(0,255,0),(255,0,0),(0,255,0)],[(0,0,255),(0,255,0),(255,0,0)]])\n",
    "\n",
    "print(c)\n",
    "plt.imshow(c)"
   ]
  },
  {
   "cell_type": "markdown",
   "metadata": {},
   "source": [
    "# Subtrair a média de cada linha de uma matriz"
   ]
  },
  {
   "cell_type": "code",
   "execution_count": 45,
   "metadata": {},
   "outputs": [
    {
     "name": "stdout",
     "output_type": "stream",
     "text": [
      "-------Matriz Original-------\n",
      "[[27 91 52 43 59 76 39 20 96 44]\n",
      " [20 51 57  7 20 91 89 52 54 80]\n",
      " [78 34 89 68 90 38 84 75 29 54]] \n",
      "\n",
      "-----------------------------\n",
      "Média: 56.9 \n",
      "\n",
      "--------Matriz Alterada------\n",
      "[[-29.9  34.1  -4.9 -13.9   2.1  19.1 -17.9 -36.9  39.1 -12.9]\n",
      " [-36.9  -5.9   0.1 -49.9 -36.9  34.1  32.1  -4.9  -2.9  23.1]\n",
      " [ 21.1 -22.9  32.1  11.1  33.1 -18.9  27.1  18.1 -27.9  -2.9]]\n"
     ]
    }
   ],
   "source": [
    "matriz = np.random.randint(100,size = (3,10))\n",
    "print(\"-------Matriz Original-------\")\n",
    "print(matriz,\"\\n\")\n",
    "media = np.mean(matriz)\n",
    "print(\"-----------------------------\")\n",
    "print(\"Média:\", media,\"\\n\")\n",
    "print(\"--------Matriz Alterada------\")\n",
    "matriz1 = matriz - media\n",
    "print(matriz1)"
   ]
  },
  {
   "cell_type": "markdown",
   "metadata": {},
   "source": [
    "# Como encontrar o valor mais frequente em uma matriz?"
   ]
  },
  {
   "cell_type": "code",
   "execution_count": 46,
   "metadata": {},
   "outputs": [
    {
     "name": "stdout",
     "output_type": "stream",
     "text": [
      "3\n"
     ]
    }
   ],
   "source": [
    "a = np.array([1,3,1,5,6,5,7,2,3,3,3,3,1])\n",
    "counts = np.bincount(a)\n",
    "print (np.argmax(counts))"
   ]
  },
  {
   "cell_type": "markdown",
   "metadata": {},
   "source": [
    "# Crie uma matriz a partir de um arquivo"
   ]
  },
  {
   "cell_type": "code",
   "execution_count": 49,
   "metadata": {},
   "outputs": [
    {
     "name": "stdout",
     "output_type": "stream",
     "text": [
      "[[ 7.4     0.7     0.      1.9     0.076  11.     34.      0.9978  3.51\n",
      "   0.56    9.4     5.    ]\n",
      " [ 7.8     0.88    0.      2.6     0.098  25.     67.      0.9968  3.2\n",
      "   0.68    9.8     5.    ]\n",
      " [ 7.8     0.76    0.04    2.3     0.092  15.     54.      0.997   3.26\n",
      "   0.65    9.8     5.    ]\n",
      " [11.2     0.28    0.56    1.9     0.075  17.     60.      0.998   3.16\n",
      "   0.58    9.8     6.    ]\n",
      " [ 7.4     0.7     0.      1.9     0.076  11.     34.      0.9978  3.51\n",
      "   0.56    9.4     5.    ]]\n"
     ]
    }
   ],
   "source": [
    "m = np.genfromtxt(\"teste_matriz.csv\",delimiter= \"\",skip_header=0)\n",
    "print(m)"
   ]
  },
  {
   "cell_type": "markdown",
   "metadata": {},
   "source": [
    "# Crie uma matriz com valores aletaórios e salve para um arquivo"
   ]
  },
  {
   "cell_type": "code",
   "execution_count": 284,
   "metadata": {},
   "outputs": [],
   "source": [
    "mat = np.random.randint((100),size = (10,10))\n",
    "np.savetxt(\"Matriz_Rand\",mat)"
   ]
  },
  {
   "cell_type": "code",
   "execution_count": 50,
   "metadata": {},
   "outputs": [],
   "source": [
    "array1 = np.array([0,0,0])\n",
    "array2 = np.array([0,255,0])\n",
    "array3 = np.array([0,0,255])\n"
   ]
  },
  {
   "cell_type": "code",
   "execution_count": null,
   "metadata": {},
   "outputs": [],
   "source": []
  }
 ],
 "metadata": {
  "kernelspec": {
   "display_name": "Python [conda env:exerc_python] *",
   "language": "python",
   "name": "conda-env-exerc_python-py"
  },
  "language_info": {
   "codemirror_mode": {
    "name": "ipython",
    "version": 3
   },
   "file_extension": ".py",
   "mimetype": "text/x-python",
   "name": "python",
   "nbconvert_exporter": "python",
   "pygments_lexer": "ipython3",
   "version": "3.7.3"
  }
 },
 "nbformat": 4,
 "nbformat_minor": 2
}
